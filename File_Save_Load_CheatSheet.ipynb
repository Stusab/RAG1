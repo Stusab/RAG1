{
 "cells": [
  {
   "cell_type": "markdown",
   "id": "e71efcf3",
   "metadata": {},
   "source": [
    "# 🧸 Save and Load Files – GitHub Codespace & Google Colab\n",
    "This notebook helps you save and load files like a pro – even if you're 5!"
   ]
  },
  {
   "cell_type": "markdown",
   "id": "91a81300",
   "metadata": {},
   "source": [
    "## ✅ Part 1: Save a File in GitHub Codespace"
   ]
  },
  {
   "cell_type": "code",
   "execution_count": null,
   "id": "0051409c",
   "metadata": {},
   "outputs": [],
   "source": [
    "# Create and save a file\n",
    "echo \"Hello, I am a saved file!\" > myfile.txt\n",
    "\n",
    "# Add the file to Git and push to GitHub\n",
    "git add myfile.txt\n",
    "git commit -m \"Added myfile.txt\"\n",
    "git push"
   ]
  },
  {
   "cell_type": "markdown",
   "id": "37e1f211",
   "metadata": {},
   "source": [
    "## ✅ Part 2: Save a File in Google Colab (Download to your Computer)"
   ]
  },
  {
   "cell_type": "code",
   "execution_count": null,
   "id": "2e901c36",
   "metadata": {},
   "outputs": [],
   "source": [
    "# Create the file\n",
    "with open(\"myfile.txt\", \"w\") as f:\n",
    "    f.write(\"Hello, I am a saved file!\")\n",
    "\n",
    "# Download to your computer\n",
    "from google.colab import files\n",
    "files.download(\"myfile.txt\")"
   ]
  },
  {
   "cell_type": "markdown",
   "id": "bb6045a9",
   "metadata": {},
   "source": [
    "## ✅ Part 3: Save a File in Google Colab (Google Drive)"
   ]
  },
  {
   "cell_type": "code",
   "execution_count": null,
   "id": "4ff4cba5",
   "metadata": {},
   "outputs": [],
   "source": [
    "# Mount Google Drive\n",
    "from google.colab import drive\n",
    "drive.mount('/content/drive')"
   ]
  },
  {
   "cell_type": "code",
   "execution_count": null,
   "id": "bd3666ab",
   "metadata": {},
   "outputs": [],
   "source": [
    "# Save the file to Drive\n",
    "with open(\"/content/drive/MyDrive/myfile.txt\", \"w\") as f:\n",
    "    f.write(\"Hello, I am a file on Google Drive!\")"
   ]
  },
  {
   "cell_type": "markdown",
   "id": "500d6855",
   "metadata": {},
   "source": [
    "## 🔁 Part 4: Load a File from GitHub Codespace"
   ]
  },
  {
   "cell_type": "code",
   "execution_count": null,
   "id": "bd8962e6",
   "metadata": {},
   "outputs": [],
   "source": [
    "# Option 1: Clone entire repo\n",
    "!git clone https://github.com/stusab/dein-repo-name.git\n",
    "\n",
    "# Option 2: Download single file directly\n",
    "!curl -O https://raw.githubusercontent.com/stusab/dein-repo-name/main/myfile.txt"
   ]
  },
  {
   "cell_type": "code",
   "execution_count": null,
   "id": "0522464b",
   "metadata": {},
   "outputs": [],
   "source": [
    "# Open and read file in Python\n",
    "with open(\"myfile.txt\", \"r\") as f:\n",
    "    content = f.read()\n",
    "print(content)"
   ]
  },
  {
   "cell_type": "markdown",
   "id": "a494a91a",
   "metadata": {},
   "source": [
    "## 🔁 Part 5: Load a File from Google Drive"
   ]
  },
  {
   "cell_type": "code",
   "execution_count": null,
   "id": "801615ca",
   "metadata": {},
   "outputs": [],
   "source": [
    "# Make sure Drive is mounted\n",
    "from google.colab import drive\n",
    "drive.mount('/content/drive')"
   ]
  },
  {
   "cell_type": "code",
   "execution_count": null,
   "id": "d3240073",
   "metadata": {},
   "outputs": [],
   "source": [
    "# Read file from Drive\n",
    "with open(\"/content/drive/MyDrive/myfile.txt\", \"r\") as f:\n",
    "    content = f.read()\n",
    "print(content)"
   ]
  }
 ],
 "metadata": {},
 "nbformat": 4,
 "nbformat_minor": 5
}
